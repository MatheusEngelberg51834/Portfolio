{
 "cells": [
  {
   "cell_type": "code",
   "execution_count": 1,
   "metadata": {},
   "outputs": [],
   "source": [
    "import cvxpy as cvx\n",
    "import numpy as np\n",
    "import matplotlib.pyplot as plt"
   ]
  },
  {
   "cell_type": "markdown",
   "metadata": {},
   "source": [
    "# Using CVXPY"
   ]
  },
  {
   "cell_type": "markdown",
   "metadata": {},
   "source": [
    "First, the hypothesis function:"
   ]
  },
  {
   "cell_type": "code",
   "execution_count": 2,
   "metadata": {},
   "outputs": [],
   "source": [
    "def H(x,w):\n",
    "    \n",
    "    '''\n",
    "    given a value to w, and a numpy array to x, this function will return the logistic function result \n",
    "    \n",
    "    W = theta\n",
    "    X = feature input, numpy array\n",
    "    H = len(X)-dim array\n",
    "    '''\n",
    "    \n",
    "    return 1/(1.0 + np.exp(-1.0 * np.dot(x.reshape(-1,1), w)))"
   ]
  },
  {
   "cell_type": "markdown",
   "metadata": {},
   "source": [
    "Define some points:"
   ]
  },
  {
   "cell_type": "code",
   "execution_count": 3,
   "metadata": {},
   "outputs": [
    {
     "data": {
      "text/plain": [
       "<matplotlib.collections.PathCollection at 0x7f153ef6fd00>"
      ]
     },
     "execution_count": 3,
     "metadata": {},
     "output_type": "execute_result"
    },
    {
     "data": {
      "image/png": "[encoded data removed]",
      "text/plain": [
       "<Figure size 432x288 with 1 Axes>"
      ]
     },
     "metadata": {
      "needs_background": "light"
     },
     "output_type": "display_data"
    }
   ],
   "source": [
    "X = (np.random.random((1, 50)) - 0.5)*10; X = X[0]\n",
    "Y = np.array([int(0) if x < 0.5 else int(1) for x in X])\n",
    "\n",
    "plt.scatter(X, Y)"
   ]
  },
  {
   "cell_type": "markdown",
   "metadata": {},
   "source": [
    "The problem to be solved is the maximization of the likelihood:"
   ]
  },
  {
   "cell_type": "code",
   "execution_count": 4,
   "metadata": {},
   "outputs": [],
   "source": [
    "w = cvx.Variable()\n",
    "\n",
    "obj = cvx.Maximize(np.dot(Y, X)*w - cvx.sum(cvx.logistic(X*w)))\n",
    "prob = cvx.Problem(obj).solve()\n",
    "\n",
    "w = w.value"
   ]
  },
  {
   "cell_type": "markdown",
   "metadata": {},
   "source": [
    "The best w:"
   ]
  },
  {
   "cell_type": "code",
   "execution_count": 5,
   "metadata": {},
   "outputs": [
    {
     "data": {
      "text/plain": [
       "array(3.65812423)"
      ]
     },
     "execution_count": 5,
     "metadata": {},
     "output_type": "execute_result"
    }
   ],
   "source": [
    "w"
   ]
  },
  {
   "cell_type": "markdown",
   "metadata": {},
   "source": [
    "As we are dealing with one-dimensional features, our decision boundary is the point w*x = 0:"
   ]
  },
  {
   "cell_type": "code",
   "execution_count": 6,
   "metadata": {},
   "outputs": [
    {
     "data": {
      "text/plain": [
       "[<matplotlib.lines.Line2D at 0x7f153e67b820>]"
      ]
     },
     "execution_count": 6,
     "metadata": {},
     "output_type": "execute_result"
    },
    {
     "data": {
      "image/png": "[encoded data removed]",
      "text/plain": [
       "<Figure size 432x288 with 1 Axes>"
      ]
     },
     "metadata": {
      "needs_background": "light"
     },
     "output_type": "display_data"
    }
   ],
   "source": [
    "plt.scatter(0, H(np.array([0]), w), color='red')\n",
    "plt.plot(sorted(X), sorted(H(X, w)))"
   ]
  },
  {
   "cell_type": "markdown",
   "metadata": {},
   "source": [
    "# From scratch"
   ]
  },
  {
   "cell_type": "markdown",
   "metadata": {},
   "source": [
    "Define the gradient and the gradient descent functions:"
   ]
  },
  {
   "cell_type": "code",
   "execution_count": 7,
   "metadata": {},
   "outputs": [],
   "source": [
    "def gradient(w, h, x, y):\n",
    "    \n",
    "    '''\n",
    "    given the array w, a value h, the features x and the expected output y, this function will return the partial derivative of\n",
    "    the likelihood function\n",
    "    \n",
    "    w        = array\n",
    "    h        = float\n",
    "    x        = array\n",
    "    y        = array\n",
    "    gradient = generator\n",
    "    '''\n",
    "    \n",
    "    return sum(-X[i]*(y[i] - h(X[i],w)) for i in range(len(x)))\n",
    "\n",
    "def GD(eta, iterations, grad, x, y, d):\n",
    "    \n",
    "    '''\n",
    "    given a learning rate eta, a number of iterations iterations, the features x, the expected output y and the features dimension d, this function\n",
    "    will get the best w to maximize the hypothesis\n",
    "    \n",
    "    eta        = float\n",
    "    iterations = int\n",
    "    grad       = function\n",
    "    x          = features array\n",
    "    y          = expected outputs array\n",
    "    d          = features dimension\n",
    "    GD         = array\n",
    "    '''\n",
    "    \n",
    "    w = np.zeros(d)\n",
    "    for i in range(1, iterations + 1):\n",
    "        gradient = grad(w, H, x, y)\n",
    "        w = w - np.dot(eta, gradient)\n",
    "        if i % 100 == 0:\n",
    "            print('iteration {}, w:{}'.format(i, w))\n",
    "    print('Optimal w: {}'.format(w))\n",
    "    return w"
   ]
  },
  {
   "cell_type": "code",
   "execution_count": 8,
   "metadata": {},
   "outputs": [
    {
     "name": "stdout",
     "output_type": "stream",
     "text": [
      "iteration 100, w:[3.75403788]\n",
      "iteration 200, w:[3.65812476]\n",
      "iteration 300, w:[3.65812376]\n",
      "Optimal w: [3.65812376]\n"
     ]
    }
   ],
   "source": [
    "w = GD(0.3, 300, gradient, X, Y, 1)"
   ]
  },
  {
   "cell_type": "code",
   "execution_count": 9,
   "metadata": {},
   "outputs": [
    {
     "data": {
      "text/plain": [
       "[<matplotlib.lines.Line2D at 0x7f153e6647f0>]"
      ]
     },
     "execution_count": 9,
     "metadata": {},
     "output_type": "execute_result"
    },
    {
     "data": {
      "image/png": "[encoded data removed]",
      "text/plain": [
       "<Figure size 432x288 with 1 Axes>"
      ]
     },
     "metadata": {
      "needs_background": "light"
     },
     "output_type": "display_data"
    }
   ],
   "source": [
    "plt.scatter(0, H(np.array([0]), w), color='red')\n",
    "plt.plot(sorted(X), sorted(H(X, w)), alpha=0.7)"
   ]
  },
  {
   "cell_type": "markdown",
   "metadata": {},
   "source": [
    "# In SKLearn:"
   ]
  },
  {
   "cell_type": "code",
   "execution_count": 10,
   "metadata": {},
   "outputs": [],
   "source": [
    "from sklearn.linear_model import LogisticRegression"
   ]
  },
  {
   "cell_type": "code",
   "execution_count": 11,
   "metadata": {},
   "outputs": [],
   "source": [
    "clf = LogisticRegression(random_state=0).fit(X.reshape(50, 1), Y)"
   ]
  },
  {
   "cell_type": "code",
   "execution_count": 12,
   "metadata": {},
   "outputs": [
    {
     "data": {
      "text/plain": [
       "[<matplotlib.lines.Line2D at 0x7f153cc145e0>]"
      ]
     },
     "execution_count": 12,
     "metadata": {},
     "output_type": "execute_result"
    },
    {
     "data": {
      "image/png": "[encoded data removed]",
      "text/plain": [
       "<Figure size 432x288 with 1 Axes>"
      ]
     },
     "metadata": {
      "needs_background": "light"
     },
     "output_type": "display_data"
    }
   ],
   "source": [
    "plt.plot(sorted(X), sorted([value[1] for value in clf.predict_proba(X.reshape(-1, 1))]))"
   ]
  }
 ],
 "metadata": {
  "kernelspec": {
   "display_name": "Python 3",
   "language": "python",
   "name": "python3"
  },
  "language_info": {
   "codemirror_mode": {
    "name": "ipython",
    "version": 3
   },
   "file_extension": ".py",
   "mimetype": "text/x-python",
   "name": "python",
   "nbconvert_exporter": "python",
   "pygments_lexer": "ipython3",
   "version": "3.8.5"
  }
 },
 "nbformat": 4,
 "nbformat_minor": 4
}
