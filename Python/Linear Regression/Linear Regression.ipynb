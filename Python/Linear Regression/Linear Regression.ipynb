{
 "cells": [
  {
   "cell_type": "code",
   "execution_count": 1,
   "metadata": {},
   "outputs": [],
   "source": [
    "# CVXPY part is directly inspired by: https://cs.stanford.edu/~tachim/optimization_code.html\n",
    "\n",
    "import numpy as np\n",
    "import cvxpy as cp\n",
    "import matplotlib.pyplot as plt"
   ]
  },
  {
   "cell_type": "markdown",
   "metadata": {},
   "source": [
    "## Using CVXPY:"
   ]
  },
  {
   "cell_type": "markdown",
   "metadata": {},
   "source": [
    "Define some points:"
   ]
  },
  {
   "cell_type": "code",
   "execution_count": 2,
   "metadata": {},
   "outputs": [
    {
     "data": {
      "text/plain": [
       "<matplotlib.collections.PathCollection at 0x7f40cf4dd8e0>"
      ]
     },
     "execution_count": 2,
     "metadata": {},
     "output_type": "execute_result"
    },
    {
     "data": {
      "image/png": "[encoded data removed]",
      "text/plain": [
       "<Figure size 432x288 with 1 Axes>"
      ]
     },
     "metadata": {
      "needs_background": "light"
     },
     "output_type": "display_data"
    }
   ],
   "source": [
    "X = np.arange(50) # [0...49]\n",
    "Y = 0.3 * X + np.random.normal(0, 2.5, 50) # X + gaussian distribuiton with 0 mean and 2.5 std\n",
    "plt.scatter(X, Y)"
   ]
  },
  {
   "cell_type": "markdown",
   "metadata": {},
   "source": [
    "Minimize the loss with respect to w and b. The huber loss will be used to get a big loss value for wrong points"
   ]
  },
  {
   "cell_type": "code",
   "execution_count": 3,
   "metadata": {},
   "outputs": [],
   "source": [
    "w = cp.Variable()\n",
    "loss = sum(cp.huber(w * X[i] - Y[i], 1) for i in range(len(X)))\n",
    "cp.Problem(cp.Minimize(loss), []).solve()\n",
    "w = w.value"
   ]
  },
  {
   "cell_type": "markdown",
   "metadata": {},
   "source": [
    "The best w:"
   ]
  },
  {
   "cell_type": "code",
   "execution_count": 4,
   "metadata": {},
   "outputs": [
    {
     "data": {
      "text/plain": [
       "array(0.31988821)"
      ]
     },
     "execution_count": 4,
     "metadata": {},
     "output_type": "execute_result"
    }
   ],
   "source": [
    "w"
   ]
  },
  {
   "cell_type": "markdown",
   "metadata": {},
   "source": [
    "Fitted line:"
   ]
  },
  {
   "cell_type": "code",
   "execution_count": 5,
   "metadata": {},
   "outputs": [
    {
     "data": {
      "text/plain": [
       "[<matplotlib.lines.Line2D at 0x7f40ce9e4ca0>]"
      ]
     },
     "execution_count": 5,
     "metadata": {},
     "output_type": "execute_result"
    },
    {
     "data": {
      "image/png": "[encoded data removed]",
      "text/plain": [
       "<Figure size 432x288 with 1 Axes>"
      ]
     },
     "metadata": {
      "needs_background": "light"
     },
     "output_type": "display_data"
    }
   ],
   "source": [
    "plt.scatter(X, Y)\n",
    "plt.plot(X, w * X, color='red', alpha=0.7)"
   ]
  },
  {
   "cell_type": "markdown",
   "metadata": {},
   "source": [
    "## From scratch:"
   ]
  },
  {
   "cell_type": "code",
   "execution_count": 6,
   "metadata": {},
   "outputs": [],
   "source": [
    "def H(w, x):\n",
    "    \n",
    "    '''\n",
    "    given a value to w, and a array to x, this function will return the dot product of the vector w and the matrix x, meaning the prediction for that w\n",
    "    \n",
    "    W = theta\n",
    "    X = feature input, array or number\n",
    "    H = len(X) dim array\n",
    "    '''\n",
    "    \n",
    "    return [np.dot(w, value) for value in x]"
   ]
  },
  {
   "cell_type": "code",
   "execution_count": 7,
   "metadata": {},
   "outputs": [
    {
     "data": {
      "text/plain": [
       "[array([0.]), array([0.3]), array([0.6]), array([0.9]), array([1.2])]"
      ]
     },
     "execution_count": 7,
     "metadata": {},
     "output_type": "execute_result"
    }
   ],
   "source": [
    "H([0.3], X)[:5]"
   ]
  },
  {
   "cell_type": "markdown",
   "metadata": {},
   "source": [
    "Gradient descent to solve the optimization problem:"
   ]
  },
  {
   "cell_type": "code",
   "execution_count": 8,
   "metadata": {},
   "outputs": [],
   "source": [
    "def gradient(w, h, x, y):\n",
    "    \n",
    "    '''\n",
    "    given a theta and a hypothesis function, this fuction will return the partial derivative (gradient) of the squared error cost function for (x, y)\n",
    "    \n",
    "    w        = array\n",
    "    h        = function\n",
    "    x        = array or number\n",
    "    y        = array or number\n",
    "    gradient = np array\n",
    "    '''\n",
    "    \n",
    "    return sum((np.dot((h(w, x)[i] - y[i]), x[i]) for i in range(len(x))))"
   ]
  },
  {
   "cell_type": "code",
   "execution_count": 9,
   "metadata": {},
   "outputs": [
    {
     "data": {
      "text/plain": [
       "array([-539.9422861])"
      ]
     },
     "execution_count": 9,
     "metadata": {},
     "output_type": "execute_result"
    }
   ],
   "source": [
    "gradient([0.3], H, X, Y)"
   ]
  },
  {
   "cell_type": "code",
   "execution_count": 10,
   "metadata": {},
   "outputs": [],
   "source": [
    "def GD(eta, iterations, grad, x, y, d):\n",
    "    \n",
    "    '''\n",
    "    given a learning rate(eta), a numeber of iterations, a gradient, feature input x and expected output y, get the optimal theta for the hypothesis function\n",
    "    \n",
    "    eta        = float\n",
    "    iterations = int\n",
    "    grad       = function\n",
    "    X          = feature input, array or number\n",
    "    d          = number of columns of X\n",
    "    GD         = w array\n",
    "    '''\n",
    "    \n",
    "    w = np.zeros(d)\n",
    "    for i in range(1, iterations + 1):\n",
    "        gradient = grad(w, H, x, y)\n",
    "        w = w - np.dot(eta, gradient)\n",
    "        if i % 10 == 0:\n",
    "            print('iteration {}, w:{}'.format(i, w))\n",
    "    print('Optimal w: {}'.format(w))\n",
    "    return w"
   ]
  },
  {
   "cell_type": "code",
   "execution_count": 11,
   "metadata": {},
   "outputs": [
    {
     "name": "stdout",
     "output_type": "stream",
     "text": [
      "iteration 10, w:[0.31159191]\n",
      "iteration 20, w:[0.3133467]\n",
      "iteration 30, w:[0.31335659]\n",
      "iteration 40, w:[0.31335664]\n",
      "iteration 50, w:[0.31335664]\n",
      "Optimal w: [0.31335664]\n"
     ]
    }
   ],
   "source": [
    "w = GD(0.00001, 50, gradient, X, Y, 1)"
   ]
  },
  {
   "cell_type": "code",
   "execution_count": 12,
   "metadata": {},
   "outputs": [
    {
     "data": {
      "text/plain": [
       "[<matplotlib.lines.Line2D at 0x7f40cec265e0>]"
      ]
     },
     "execution_count": 12,
     "metadata": {},
     "output_type": "execute_result"
    },
    {
     "data": {
      "image/png": "[encoded data removed]",
      "text/plain": [
       "<Figure size 432x288 with 1 Axes>"
      ]
     },
     "metadata": {
      "needs_background": "light"
     },
     "output_type": "display_data"
    }
   ],
   "source": [
    "plt.scatter(X, Y)\n",
    "plt.plot(X, w * X, color='orange', alpha=0.9)"
   ]
  },
  {
   "cell_type": "markdown",
   "metadata": {},
   "source": [
    "## Using SKLearn:"
   ]
  },
  {
   "cell_type": "code",
   "execution_count": 13,
   "metadata": {},
   "outputs": [],
   "source": [
    "from sklearn import linear_model"
   ]
  },
  {
   "cell_type": "code",
   "execution_count": 14,
   "metadata": {},
   "outputs": [
    {
     "data": {
      "text/plain": [
       "[<matplotlib.lines.Line2D at 0x7f40cd106bb0>]"
      ]
     },
     "execution_count": 14,
     "metadata": {},
     "output_type": "execute_result"
    },
    {
     "data": {
      "image/png": "[encoded data removed]",
      "text/plain": [
       "<Figure size 432x288 with 1 Axes>"
      ]
     },
     "metadata": {
      "needs_background": "light"
     },
     "output_type": "display_data"
    }
   ],
   "source": [
    "regression = linear_model.LinearRegression()\n",
    "regression.fit(X.reshape(-1, 1), Y)\n",
    "plt.scatter(X, Y)\n",
    "plt.plot(X, regression.predict(X.reshape(-1, 1)),color='green', alpha=0.9)"
   ]
  }
 ],
 "metadata": {
  "kernelspec": {
   "display_name": "Python 3",
   "language": "python",
   "name": "python3"
  },
  "language_info": {
   "codemirror_mode": {
    "name": "ipython",
    "version": 3
   },
   "file_extension": ".py",
   "mimetype": "text/x-python",
   "name": "python",
   "nbconvert_exporter": "python",
   "pygments_lexer": "ipython3",
   "version": "3.8.5"
  }
 },
 "nbformat": 4,
 "nbformat_minor": 4
}
